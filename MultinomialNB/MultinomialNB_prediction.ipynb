{
  "nbformat": 4,
  "nbformat_minor": 0,
  "metadata": {
    "colab": {
      "provenance": []
    },
    "kernelspec": {
      "name": "python3",
      "display_name": "Python 3"
    },
    "language_info": {
      "name": "python"
    }
  },
  "cells": [
    {
      "cell_type": "code",
      "source": [
        "import pandas as pd\n",
        "\n",
        "from sklearn.feature_extraction.text import TfidfVectorizer\n",
        "from sklearn.preprocessing import LabelEncoder\n",
        "\n",
        "\n",
        "from sklearn.naive_bayes import MultinomialNB\n",
        "from sklearn.model_selection import train_test_split\n",
        "from sklearn.metrics import accuracy_score, classification_report, confusion_matrix\n",
        "\n",
        "import seaborn as sns\n",
        "import matplotlib.pyplot as plt"
      ],
      "metadata": {
        "id": "X5tk1AgeKsAT"
      },
      "execution_count": 11,
      "outputs": []
    },
    {
      "cell_type": "code",
      "source": [
        "# Загрузка файлов - тренировочного и тестового. В тренировочном есть столбец 'human_label' с категоризацией, выполненной человеком, в тестовом файле такого столбца нет.\n",
        "train_df = pd.read_excel('classified_yahoo_news_train.xlsx')\n",
        "test_df = pd.read_excel('classified_yahoo_news_test.xlsx')\n",
        "\n",
        "print(f\"Количество примеров в тренировочном файле: {train_df.shape[0]}\")\n",
        "print(f\"Количество примеров в тестовом файле: {test_df.shape[0]}\")"
      ],
      "metadata": {
        "colab": {
          "base_uri": "https://localhost:8080/"
        },
        "id": "7K-C1nGuKv7K",
        "outputId": "e2158d21-9e43-4e5c-9b90-538d878a4cf9"
      },
      "execution_count": null,
      "outputs": [
        {
          "output_type": "stream",
          "name": "stdout",
          "text": [
            "Количество примеров в тренировочном файле: 853\n",
            "Количество примеров в тестовом файле: 215\n"
          ]
        }
      ]
    },
    {
      "cell_type": "code",
      "source": [
        "# Кодирование категорий\n",
        "label_encoder = LabelEncoder()\n",
        "train_df['label_encoded'] = label_encoder.fit_transform(train_df['human_label'])"
      ],
      "metadata": {
        "id": "vq1lNWAaQZpW"
      },
      "execution_count": null,
      "outputs": []
    },
    {
      "cell_type": "markdown",
      "source": [
        "MultinomialNB"
      ],
      "metadata": {
        "id": "aUZlYtUJvqJW"
      }
    },
    {
      "cell_type": "code",
      "source": [
        "# Векторизация данных\n",
        "vectorizer = TfidfVectorizer(max_features=5000, ngram_range=(1, 2))\n",
        "X_train = vectorizer.fit_transform(train_df['cleaned_text'])\n",
        "X_test = vectorizer.transform(test_df['cleaned_text'])\n",
        "y_train = train_df['label_encoded']"
      ],
      "metadata": {
        "id": "tVGeY6o7vr4X"
      },
      "execution_count": null,
      "outputs": []
    },
    {
      "cell_type": "code",
      "source": [
        "# Обучение модели\n",
        "model = MultinomialNB()\n",
        "model.fit(X_train, y_train)"
      ],
      "metadata": {
        "colab": {
          "base_uri": "https://localhost:8080/",
          "height": 74
        },
        "id": "XGwlSK-8v_td",
        "outputId": "9254459e-0a8b-45eb-c4d8-c171f73e9e5e"
      },
      "execution_count": null,
      "outputs": [
        {
          "output_type": "execute_result",
          "data": {
            "text/plain": [
              "MultinomialNB()"
            ],
            "text/html": [
              "<style>#sk-container-id-1 {color: black;background-color: white;}#sk-container-id-1 pre{padding: 0;}#sk-container-id-1 div.sk-toggleable {background-color: white;}#sk-container-id-1 label.sk-toggleable__label {cursor: pointer;display: block;width: 100%;margin-bottom: 0;padding: 0.3em;box-sizing: border-box;text-align: center;}#sk-container-id-1 label.sk-toggleable__label-arrow:before {content: \"▸\";float: left;margin-right: 0.25em;color: #696969;}#sk-container-id-1 label.sk-toggleable__label-arrow:hover:before {color: black;}#sk-container-id-1 div.sk-estimator:hover label.sk-toggleable__label-arrow:before {color: black;}#sk-container-id-1 div.sk-toggleable__content {max-height: 0;max-width: 0;overflow: hidden;text-align: left;background-color: #f0f8ff;}#sk-container-id-1 div.sk-toggleable__content pre {margin: 0.2em;color: black;border-radius: 0.25em;background-color: #f0f8ff;}#sk-container-id-1 input.sk-toggleable__control:checked~div.sk-toggleable__content {max-height: 200px;max-width: 100%;overflow: auto;}#sk-container-id-1 input.sk-toggleable__control:checked~label.sk-toggleable__label-arrow:before {content: \"▾\";}#sk-container-id-1 div.sk-estimator input.sk-toggleable__control:checked~label.sk-toggleable__label {background-color: #d4ebff;}#sk-container-id-1 div.sk-label input.sk-toggleable__control:checked~label.sk-toggleable__label {background-color: #d4ebff;}#sk-container-id-1 input.sk-hidden--visually {border: 0;clip: rect(1px 1px 1px 1px);clip: rect(1px, 1px, 1px, 1px);height: 1px;margin: -1px;overflow: hidden;padding: 0;position: absolute;width: 1px;}#sk-container-id-1 div.sk-estimator {font-family: monospace;background-color: #f0f8ff;border: 1px dotted black;border-radius: 0.25em;box-sizing: border-box;margin-bottom: 0.5em;}#sk-container-id-1 div.sk-estimator:hover {background-color: #d4ebff;}#sk-container-id-1 div.sk-parallel-item::after {content: \"\";width: 100%;border-bottom: 1px solid gray;flex-grow: 1;}#sk-container-id-1 div.sk-label:hover label.sk-toggleable__label {background-color: #d4ebff;}#sk-container-id-1 div.sk-serial::before {content: \"\";position: absolute;border-left: 1px solid gray;box-sizing: border-box;top: 0;bottom: 0;left: 50%;z-index: 0;}#sk-container-id-1 div.sk-serial {display: flex;flex-direction: column;align-items: center;background-color: white;padding-right: 0.2em;padding-left: 0.2em;position: relative;}#sk-container-id-1 div.sk-item {position: relative;z-index: 1;}#sk-container-id-1 div.sk-parallel {display: flex;align-items: stretch;justify-content: center;background-color: white;position: relative;}#sk-container-id-1 div.sk-item::before, #sk-container-id-1 div.sk-parallel-item::before {content: \"\";position: absolute;border-left: 1px solid gray;box-sizing: border-box;top: 0;bottom: 0;left: 50%;z-index: -1;}#sk-container-id-1 div.sk-parallel-item {display: flex;flex-direction: column;z-index: 1;position: relative;background-color: white;}#sk-container-id-1 div.sk-parallel-item:first-child::after {align-self: flex-end;width: 50%;}#sk-container-id-1 div.sk-parallel-item:last-child::after {align-self: flex-start;width: 50%;}#sk-container-id-1 div.sk-parallel-item:only-child::after {width: 0;}#sk-container-id-1 div.sk-dashed-wrapped {border: 1px dashed gray;margin: 0 0.4em 0.5em 0.4em;box-sizing: border-box;padding-bottom: 0.4em;background-color: white;}#sk-container-id-1 div.sk-label label {font-family: monospace;font-weight: bold;display: inline-block;line-height: 1.2em;}#sk-container-id-1 div.sk-label-container {text-align: center;}#sk-container-id-1 div.sk-container {/* jupyter's `normalize.less` sets `[hidden] { display: none; }` but bootstrap.min.css set `[hidden] { display: none !important; }` so we also need the `!important` here to be able to override the default hidden behavior on the sphinx rendered scikit-learn.org. See: https://github.com/scikit-learn/scikit-learn/issues/21755 */display: inline-block !important;position: relative;}#sk-container-id-1 div.sk-text-repr-fallback {display: none;}</style><div id=\"sk-container-id-1\" class=\"sk-top-container\"><div class=\"sk-text-repr-fallback\"><pre>MultinomialNB()</pre><b>In a Jupyter environment, please rerun this cell to show the HTML representation or trust the notebook. <br />On GitHub, the HTML representation is unable to render, please try loading this page with nbviewer.org.</b></div><div class=\"sk-container\" hidden><div class=\"sk-item\"><div class=\"sk-estimator sk-toggleable\"><input class=\"sk-toggleable__control sk-hidden--visually\" id=\"sk-estimator-id-1\" type=\"checkbox\" checked><label for=\"sk-estimator-id-1\" class=\"sk-toggleable__label sk-toggleable__label-arrow\">MultinomialNB</label><div class=\"sk-toggleable__content\"><pre>MultinomialNB()</pre></div></div></div></div></div>"
            ]
          },
          "metadata": {},
          "execution_count": 5
        }
      ]
    },
    {
      "cell_type": "code",
      "source": [
        "# Классификация на тестовом наборе\n",
        "y_pred = model.predict(X_test)\n",
        "test_df['label'] = label_encoder.inverse_transform(y_pred)"
      ],
      "metadata": {
        "id": "wdpIyV0KwBzV"
      },
      "execution_count": null,
      "outputs": []
    },
    {
      "cell_type": "code",
      "source": [
        "# Сохранение результатов\n",
        "test_df.to_excel('classified_yahoo_news_test_predictions_MultinomialNB.xlsx', index=False)\n",
        "print(test_df.head())"
      ],
      "metadata": {
        "colab": {
          "base_uri": "https://localhost:8080/"
        },
        "collapsed": true,
        "id": "Nqg0O8_GwHAM",
        "outputId": "d57602d6-26ba-4a85-cf90-08d7ce6b6bef"
      },
      "execution_count": null,
      "outputs": [
        {
          "output_type": "stream",
          "name": "stdout",
          "text": [
            "   Unnamed: 0                                               link  \\\n",
            "0           1  https://news.yahoo.co.jp/articles/c6a14be43198...   \n",
            "1           2  https://news.yahoo.co.jp/articles/94cf6494a165...   \n",
            "2           3  https://news.yahoo.co.jp/articles/5320ffcc1029...   \n",
            "3           4  https://news.yahoo.co.jp/articles/f44321d169e1...   \n",
            "4           5  https://news.yahoo.co.jp/articles/c941a830fdc1...   \n",
            "\n",
            "                                               title           time  \\\n",
            "0         岸田首相演説に登場した首脳3人の名前　日韓・日中…去年からの変化で岸田外交を読み解き  1/29(月) 11:47   \n",
            "1  トランプ氏が返り咲けば「再登板ショック」　米国の政策がひっくり返るのは確実、日米同盟破棄を突...  1/27(土) 14:04   \n",
            "2  「井上尚弥を年間最優秀選手に選ばなかったらバカに見える」とフルトンも進言　BWAA会長が明か...  1/28(日) 17:56   \n",
            "3                     ロシア前大統領、領土問題巡り対日強硬姿勢　クリル諸島に新兵器  1/28(日) 17:02   \n",
            "4                             社説：虐殺防止命令　ガザの休戦実現へ力尽くせ  1/25(木) 16:30   \n",
            "\n",
            "                                                text  \\\n",
            "0  アジアカップを戦うサッカー日本代表。その指揮官・森保一(55歳)とはいったい何者なのか？ 森...   \n",
            "1  ［３０日 ロイター］ -     ２０２２年北京冬季五輪のフィギュアスケートでカミラ・ワリエ...   \n",
            "2  ＜フィギュアスケート：4大陸選手権＞◇30日◇中国・上海◇アイスダンス公式練習\\n\\n 全日...   \n",
            "3   フィギュアスケート女子のカミラ・ワリエワ（ロシア）がドーピングにより4年間の資格停止処分な...   \n",
            "4  【ワシントン＝大内清】米ＣＮＮテレビは３０日、中国の習近平国家主席が昨年１１月の米中首脳会談...   \n",
            "\n",
            "                                        cleaned_text label  \n",
            "0  アジア カップ を 戦う サッカー 日本 代表  その 指揮 官  森保 一  55 歳  ...  スポーツ  \n",
            "1   ３０ 日 ロイター   ２０２２ 年 北京 冬季 五輪 の フィギュア スケート で カミ...  スポーツ  \n",
            "2   フィギュア スケート  4 大陸 選手 権   30 日  中国  上海  アイス ダンス...  スポーツ  \n",
            "3  フィギュア スケート 女子 の カミラ  ワリ エワ  ロシア  が ドーピング に より ...  スポーツ  \n",
            "4   ワシントン  大内 清  米 ＣＮＮ テレビ は ３０ 日  中国 の 習近 平 国家 主...    国際  \n"
          ]
        }
      ]
    },
    {
      "cell_type": "code",
      "source": [
        "# Результат классификации на тренировочном наборе\n",
        "y_train_pred = model.predict(X_train)\n",
        "print(\"MultinomialNB Classification Report for Training Set:\\n\")\n",
        "print(classification_report(y_train, y_train_pred, target_names=label_encoder.classes_, zero_division=0))"
      ],
      "metadata": {
        "colab": {
          "base_uri": "https://localhost:8080/"
        },
        "id": "0pfyrJlD2v55",
        "outputId": "44fd61ba-3d84-4a0f-8637-b09baa746d0e"
      },
      "execution_count": null,
      "outputs": [
        {
          "output_type": "stream",
          "name": "stdout",
          "text": [
            "MultinomialNB Classification Report for Training Set:\n",
            "\n",
            "              precision    recall  f1-score   support\n",
            "\n",
            "        スポーツ       0.95      0.95      0.95       212\n",
            "          国際       0.77      0.98      0.87       489\n",
            "          政治       0.90      0.10      0.18        89\n",
            "          経済       1.00      0.13      0.23        63\n",
            "\n",
            "    accuracy                           0.82       853\n",
            "   macro avg       0.91      0.54      0.56       853\n",
            "weighted avg       0.85      0.82      0.77       853\n",
            "\n"
          ]
        }
      ]
    },
    {
      "cell_type": "code",
      "source": [
        "# Загрузка файлов с полученной классификацией с помощью модели и тестового файла, в котором есть столбец с классификацией, выполненной вручную ('human_label')\n",
        "predictions_df = pd.read_excel('classified_yahoo_news_test_predictions_MultinomialNB.xlsx')\n",
        "true_labels_df = pd.read_excel('classified_yahoo_news_test_with_labels.xlsx')\n",
        "\n",
        "# Объединение двух файлов на основе одного общего столбца с токенизированными текстами статей\n",
        "merged_df = pd.merge(predictions_df, true_labels_df, on='cleaned_text')\n",
        "\n",
        "# Кодирование категорий\n",
        "label_encoder = LabelEncoder()\n",
        "label_encoder.fit(merged_df['human_label'])\n",
        "\n",
        "merged_df['true_label_encoded'] = label_encoder.transform(merged_df['human_label'])\n",
        "merged_df['predicted_label_encoded'] = label_encoder.transform(merged_df['label'])"
      ],
      "metadata": {
        "id": "Z-N4FrH0-U10"
      },
      "execution_count": null,
      "outputs": []
    },
    {
      "cell_type": "code",
      "source": [
        "# Результат классификации - сравнение категорий, полученных в тестовом наборе, с присвоенными человеком\n",
        "print(\"MultinomialNB Classification Report for Test Set:\\n\")\n",
        "print(classification_report(merged_df['true_label_encoded'], merged_df['predicted_label_encoded'], target_names=label_encoder.classes_, zero_division=0))"
      ],
      "metadata": {
        "id": "Dmnfyii_HMIt",
        "colab": {
          "base_uri": "https://localhost:8080/"
        },
        "outputId": "a37b764d-4231-4c47-ec3a-18e0e79c1942"
      },
      "execution_count": null,
      "outputs": [
        {
          "output_type": "stream",
          "name": "stdout",
          "text": [
            "MultinomialNB Classification Report for Test Set:\n",
            "\n",
            "              precision    recall  f1-score   support\n",
            "\n",
            "        スポーツ       0.96      0.97      0.97        78\n",
            "          国際       0.61      0.98      0.75        85\n",
            "          政治       1.00      0.03      0.06        33\n",
            "          経済       0.00      0.00      0.00        19\n",
            "\n",
            "    accuracy                           0.74       215\n",
            "   macro avg       0.64      0.50      0.45       215\n",
            "weighted avg       0.75      0.74      0.66       215\n",
            "\n"
          ]
        }
      ]
    },
    {
      "cell_type": "code",
      "source": [
        "# Матрица ошибок\n",
        "conf_matrix = confusion_matrix(merged_df['true_label_encoded'], merged_df['predicted_label_encoded'])\n",
        "\n",
        "# Визуализация\n",
        "plt.figure(figsize=(10, 7))\n",
        "sns.heatmap(conf_matrix, annot=True, fmt='d', xticklabels=label_encoder.classes_, yticklabels=label_encoder.classes_)\n",
        "plt.xlabel('Predicted Labels')\n",
        "plt.ylabel('True Labels')\n",
        "plt.title('Confusion Matrix')\n",
        "plt.show()"
      ],
      "metadata": {
        "colab": {
          "base_uri": "https://localhost:8080/",
          "height": 1000
        },
        "id": "FH_GRJqBz8Zd",
        "outputId": "5256982b-71b8-461e-c8e7-4021d28a3674"
      },
      "execution_count": 12,
      "outputs": [
        {
          "output_type": "stream",
          "name": "stderr",
          "text": [
            "/usr/local/lib/python3.10/dist-packages/seaborn/utils.py:61: UserWarning: Glyph 12473 (\\N{KATAKANA LETTER SU}) missing from current font.\n",
            "  fig.canvas.draw()\n",
            "/usr/local/lib/python3.10/dist-packages/seaborn/utils.py:61: UserWarning: Glyph 12509 (\\N{KATAKANA LETTER PO}) missing from current font.\n",
            "  fig.canvas.draw()\n",
            "/usr/local/lib/python3.10/dist-packages/seaborn/utils.py:61: UserWarning: Glyph 12540 (\\N{KATAKANA-HIRAGANA PROLONGED SOUND MARK}) missing from current font.\n",
            "  fig.canvas.draw()\n",
            "/usr/local/lib/python3.10/dist-packages/seaborn/utils.py:61: UserWarning: Glyph 12484 (\\N{KATAKANA LETTER TU}) missing from current font.\n",
            "  fig.canvas.draw()\n",
            "/usr/local/lib/python3.10/dist-packages/seaborn/utils.py:61: UserWarning: Glyph 22269 (\\N{CJK UNIFIED IDEOGRAPH-56FD}) missing from current font.\n",
            "  fig.canvas.draw()\n",
            "/usr/local/lib/python3.10/dist-packages/seaborn/utils.py:61: UserWarning: Glyph 38555 (\\N{CJK UNIFIED IDEOGRAPH-969B}) missing from current font.\n",
            "  fig.canvas.draw()\n",
            "/usr/local/lib/python3.10/dist-packages/seaborn/utils.py:61: UserWarning: Glyph 25919 (\\N{CJK UNIFIED IDEOGRAPH-653F}) missing from current font.\n",
            "  fig.canvas.draw()\n",
            "/usr/local/lib/python3.10/dist-packages/seaborn/utils.py:61: UserWarning: Glyph 27835 (\\N{CJK UNIFIED IDEOGRAPH-6CBB}) missing from current font.\n",
            "  fig.canvas.draw()\n",
            "/usr/local/lib/python3.10/dist-packages/seaborn/utils.py:61: UserWarning: Glyph 32076 (\\N{CJK UNIFIED IDEOGRAPH-7D4C}) missing from current font.\n",
            "  fig.canvas.draw()\n",
            "/usr/local/lib/python3.10/dist-packages/seaborn/utils.py:61: UserWarning: Glyph 28168 (\\N{CJK UNIFIED IDEOGRAPH-6E08}) missing from current font.\n",
            "  fig.canvas.draw()\n",
            "/usr/local/lib/python3.10/dist-packages/IPython/core/pylabtools.py:151: UserWarning: Glyph 12473 (\\N{KATAKANA LETTER SU}) missing from current font.\n",
            "  fig.canvas.print_figure(bytes_io, **kw)\n",
            "/usr/local/lib/python3.10/dist-packages/IPython/core/pylabtools.py:151: UserWarning: Glyph 12509 (\\N{KATAKANA LETTER PO}) missing from current font.\n",
            "  fig.canvas.print_figure(bytes_io, **kw)\n",
            "/usr/local/lib/python3.10/dist-packages/IPython/core/pylabtools.py:151: UserWarning: Glyph 12540 (\\N{KATAKANA-HIRAGANA PROLONGED SOUND MARK}) missing from current font.\n",
            "  fig.canvas.print_figure(bytes_io, **kw)\n",
            "/usr/local/lib/python3.10/dist-packages/IPython/core/pylabtools.py:151: UserWarning: Glyph 12484 (\\N{KATAKANA LETTER TU}) missing from current font.\n",
            "  fig.canvas.print_figure(bytes_io, **kw)\n",
            "/usr/local/lib/python3.10/dist-packages/IPython/core/pylabtools.py:151: UserWarning: Glyph 22269 (\\N{CJK UNIFIED IDEOGRAPH-56FD}) missing from current font.\n",
            "  fig.canvas.print_figure(bytes_io, **kw)\n",
            "/usr/local/lib/python3.10/dist-packages/IPython/core/pylabtools.py:151: UserWarning: Glyph 38555 (\\N{CJK UNIFIED IDEOGRAPH-969B}) missing from current font.\n",
            "  fig.canvas.print_figure(bytes_io, **kw)\n",
            "/usr/local/lib/python3.10/dist-packages/IPython/core/pylabtools.py:151: UserWarning: Glyph 25919 (\\N{CJK UNIFIED IDEOGRAPH-653F}) missing from current font.\n",
            "  fig.canvas.print_figure(bytes_io, **kw)\n",
            "/usr/local/lib/python3.10/dist-packages/IPython/core/pylabtools.py:151: UserWarning: Glyph 27835 (\\N{CJK UNIFIED IDEOGRAPH-6CBB}) missing from current font.\n",
            "  fig.canvas.print_figure(bytes_io, **kw)\n",
            "/usr/local/lib/python3.10/dist-packages/IPython/core/pylabtools.py:151: UserWarning: Glyph 32076 (\\N{CJK UNIFIED IDEOGRAPH-7D4C}) missing from current font.\n",
            "  fig.canvas.print_figure(bytes_io, **kw)\n",
            "/usr/local/lib/python3.10/dist-packages/IPython/core/pylabtools.py:151: UserWarning: Glyph 28168 (\\N{CJK UNIFIED IDEOGRAPH-6E08}) missing from current font.\n",
            "  fig.canvas.print_figure(bytes_io, **kw)\n"
          ]
        },
        {
          "output_type": "display_data",
          "data": {
            "text/plain": [
              "<Figure size 1000x700 with 2 Axes>"
            ],
            "image/png": "[encoded data removed]"
          },
          "metadata": {}
        }
      ]
    }
  ]
}